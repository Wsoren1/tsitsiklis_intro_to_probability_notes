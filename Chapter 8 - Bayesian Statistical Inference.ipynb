{
 "cells": [
  {
   "cell_type": "markdown",
   "metadata": {},
   "source": [
    "# Introduction"
   ]
  },
  {
   "cell_type": "markdown",
   "metadata": {},
   "source": [
    "What is Statistical Inference?\n",
    "\n",
    "Statistical inference is the process of extracting information of an unknown variable or an unknown model from available data. \n",
    "There are two main types, Bayesian and Classical.  \n",
    "\n",
    "Inference problems are normally categorized into Parameter Estimation, Hypothesis testing, and Significance Testing. The methodologies discussed in the textbook are Maximum a posteriori probability rule, least mean squares estimation, maximum likelihood, regression, and likelihood ratio tests."
   ]
  },
  {
   "cell_type": "markdown",
   "metadata": {},
   "source": [
    "### Probability vs. Statistics"
   ]
  },
  {
   "cell_type": "markdown",
   "metadata": {},
   "source": [
    "Recall probability is defined by axioms, so we must assume a probabilistic model follows the axioms.  We can then use methods to extract information, and have a set, unique \"correct answer.\"  This differs from Statistics, since in Stats, there are many different methods to extract different answers, and there is no \"best method.\"  Choosing a method is described as an art, and considerations depend on factors such as performance guarantees, past experience, \"common sense,\" and the consensus of the statistics community. "
   ]
  },
  {
   "cell_type": "markdown",
   "metadata": {},
   "source": [
    "### Bayesian versus Classical Statistics"
   ]
  },
  {
   "cell_type": "markdown",
   "metadata": {},
   "source": [
    "Bayesian:\n",
    "- Models are treated as random variables with known distributions.\n",
    "- Fits statistical methods into probability theory axioms, so each question has unique answer\n",
    "    - How is this done?"
   ]
  },
  {
   "cell_type": "markdown",
   "metadata": {},
   "source": [
    "A bayesian model introduces a random variable $\\theta$, that represents the model, and postulates a __prior__ probability distribution $p_\\theta(\\theta)$. The following model, the __posterior__ probability distribution captures all the information that $x$ can provide about $\\theta$"
   ]
  },
  {
   "cell_type": "markdown",
   "metadata": {},
   "source": [
    "<center>$p_{\\theta|x}(\\theta|x)$"
   ]
  },
  {
   "cell_type": "raw",
   "metadata": {},
   "source": [
    "Classical:\n",
    "    Models are treated as deterministic quantities, which happen to be unknown.\n",
    "    "
   ]
  }
 ],
 "metadata": {
  "kernelspec": {
   "display_name": "Python 3",
   "language": "python",
   "name": "python3"
  },
  "language_info": {
   "codemirror_mode": {
    "name": "ipython",
    "version": 3
   },
   "file_extension": ".py",
   "mimetype": "text/x-python",
   "name": "python",
   "nbconvert_exporter": "python",
   "pygments_lexer": "ipython3",
   "version": "3.6.0"
  }
 },
 "nbformat": 4,
 "nbformat_minor": 4
}
